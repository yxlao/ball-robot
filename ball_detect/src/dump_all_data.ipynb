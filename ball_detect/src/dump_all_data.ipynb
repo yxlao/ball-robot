{
 "cells": [
  {
   "cell_type": "code",
   "execution_count": 1,
   "metadata": {
    "collapsed": false
   },
   "outputs": [],
   "source": [
    "from os import listdir, rename\n",
    "from os.path import isfile, join\n",
    "from shutil import copyfile\n",
    "\n",
    "import cv2\n",
    "import numpy as np\n",
    "\n",
    "import cPickle as pickle\n",
    "import gzip\n",
    "\n",
    "import matplotlib.pyplot as plt\n",
    "import matplotlib.image as mpimg\n",
    "%matplotlib inline"
   ]
  },
  {
   "cell_type": "code",
   "execution_count": null,
   "metadata": {
    "collapsed": true
   },
   "outputs": [],
   "source": [
    "# init dict\n",
    "data = dict()"
   ]
  },
  {
   "cell_type": "code",
   "execution_count": 3,
   "metadata": {
    "collapsed": false
   },
   "outputs": [],
   "source": [
    "path = 'dataset/floor1'\n",
    "pure_names = [f[:-4] for f in listdir(path) \n",
    "              if isfile(join(path, f)) and 'npy' in f]\n",
    "\n",
    "for pure_name in pure_names:\n",
    "    im = mpimg.imread(join(path, pure_name + '.png'))\n",
    "    im_mask_orange = cv2.imread(join(path, pure_name + '.orange.png'), 0).astype(bool)\n",
    "    im_mask_green = cv2.imread(join(path, pure_name + '.green.png'), 0).astype(bool)\n",
    "    im_bgr = np.load(join(path, pure_name + '.npy'))\n",
    "    im_hsv = cv2.cvtColor(im_bgr, cv2.COLOR_BGR2HSV)\n",
    "    \n",
    "    data[pure_name] = dict()\n",
    "    data[pure_name]['im'] = im\n",
    "    data[pure_name]['im_mask_orange'] = im_mask_orange\n",
    "    data[pure_name]['im_mask_green'] = im_mask_green\n",
    "    data[pure_name]['im_hsv'] = im_hsv"
   ]
  },
  {
   "cell_type": "code",
   "execution_count": null,
   "metadata": {
    "collapsed": true
   },
   "outputs": [],
   "source": [
    "path = 'dataset/floor3'\n",
    "pure_names = [f[:-4] for f in listdir(path) \n",
    "              if isfile(join(path, f)) and 'npy' in f]\n",
    "\n",
    "for pure_name in pure_names:\n",
    "    im = mpimg.imread(join(path, pure_name + '.png'))\n",
    "    im_mask_orange = cv2.imread(join(path, pure_name + '.orange.png'), 0).astype(bool)\n",
    "    im_mask_green = cv2.imread(join(path, pure_name + '.green.png'), 0).astype(bool)\n",
    "    im_bgr = np.load(join(path, pure_name + '.npy'))\n",
    "    im_hsv = cv2.cvtColor(im_bgr, cv2.COLOR_BGR2HSV)\n",
    "    \n",
    "    data[pure_name] = dict()\n",
    "    data[pure_name]['im'] = im\n",
    "    data[pure_name]['im_mask_orange'] = im_mask_orange\n",
    "    data[pure_name]['im_mask_green'] = im_mask_green\n",
    "    data[pure_name]['im_hsv'] = im_hsv"
   ]
  },
  {
   "cell_type": "code",
   "execution_count": 4,
   "metadata": {
    "collapsed": false
   },
   "outputs": [],
   "source": [
    "pickle.dump(data, open(\"data.p\", \"wb\"), \n",
    "            protocol=pickle.HIGHEST_PROTOCOL)"
   ]
  },
  {
   "cell_type": "code",
   "execution_count": 5,
   "metadata": {
    "collapsed": true
   },
   "outputs": [],
   "source": [
    "data_loaded = pickle.load(open(\"data.p\", \"rb\"))"
   ]
  },
  {
   "cell_type": "code",
   "execution_count": 6,
   "metadata": {
    "collapsed": false
   },
   "outputs": [],
   "source": [
    "# with gzip.GzipFile('data.pgz', 'w') as f:\n",
    "#     pickle.dump(data, f)\n",
    "# with gzip.open('data.pgz', 'rb') as f:\n",
    "#     data_loaded = pickle.load(f)"
   ]
  }
 ],
 "metadata": {
  "kernelspec": {
   "display_name": "Python 2",
   "language": "python",
   "name": "python2"
  },
  "language_info": {
   "codemirror_mode": {
    "name": "ipython",
    "version": 2
   },
   "file_extension": ".py",
   "mimetype": "text/x-python",
   "name": "python",
   "nbconvert_exporter": "python",
   "pygments_lexer": "ipython2",
   "version": "2.7.6"
  }
 },
 "nbformat": 4,
 "nbformat_minor": 0
}
