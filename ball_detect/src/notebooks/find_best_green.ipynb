{
 "cells": [
  {
   "cell_type": "code",
   "execution_count": null,
   "metadata": {
    "collapsed": true
   },
   "outputs": [],
   "source": [
    "import cv2\n",
    "import time\n",
    "import numpy as np\n",
    "import cPickle as pickle\n",
    "import matplotlib.pyplot as plt\n",
    "import matplotlib.image as mpimg\n",
    "%matplotlib inline\n",
    "import hyperopt\n",
    "from hyperopt import fmin, tpe, hp\n",
    "\n",
    "from ball_detect_utils import hsv_to_bool_mask\n",
    "from ball_detect_utils import hsv_to_circular_bool_mask\n",
    "from ball_detect_utils import jaccard, hsv_to_jaccard, threshold_to_score"
   ]
  },
  {
   "cell_type": "code",
   "execution_count": null,
   "metadata": {
    "collapsed": true
   },
   "outputs": [],
   "source": [
    "data = pickle.load(open(\"dataset/data.p\", \"rb\"))"
   ]
  },
  {
   "cell_type": "code",
   "execution_count": null,
   "metadata": {
    "collapsed": false
   },
   "outputs": [],
   "source": [
    "def hypteropt_ball_objective(args):\n",
    "    hsv_lows, hsv_highs, color, enable_circular = args\n",
    "    return -threshold_to_score(data, hsv_lows, hsv_highs,\n",
    "                               color, enable_circular)\n",
    "\n",
    "def hyperopt_best_to_code(b):\n",
    "    print \"green_hsv_lows = (%.4f, %.4f, %.4f)\" % (b['h_low'], b['s_low'], b['v_low'])\n",
    "    print \"green_hsv_highs = (%.4f, %.4f, %.4f)\" % (b['h_high'], b['s_high'], b['v_high'])\n",
    "\n",
    "# green color\n",
    "space = ((hp.uniform('h_low', 0, 50), \n",
    "          hp.uniform('s_low', 0, 160), \n",
    "          hp.uniform('v_low', 0, 160)), \n",
    "         (hp.uniform('h_high', 20, 100), \n",
    "          hp.uniform('s_high', 200, 255), \n",
    "          hp.uniform('v_high', 200, 255)), \n",
    "         'green', True)\n",
    "\n",
    "start_time = time.time()\n",
    "best = fmin(hypteropt_ball_objective, \n",
    "            space, algo=tpe.suggest, max_evals=200)\n",
    "print(\"%s seconds\" % (time.time() - start_time))\n",
    "print hypteropt_ball_objective(hyperopt.space_eval(space, best))\n",
    "hyperopt_best_to_code(best)"
   ]
  },
  {
   "cell_type": "code",
   "execution_count": null,
   "metadata": {
    "collapsed": true
   },
   "outputs": [],
   "source": [
    "# threshold_to_score(data,\n",
    "#                    green_hsv_lows, green_hsv_highs,\n",
    "#                    color='green', enable_circular=False)"
   ]
  }
 ],
 "metadata": {
  "kernelspec": {
   "display_name": "Python 2",
   "language": "python",
   "name": "python2"
  },
  "language_info": {
   "codemirror_mode": {
    "name": "ipython",
    "version": 2
   },
   "file_extension": ".py",
   "mimetype": "text/x-python",
   "name": "python",
   "nbconvert_exporter": "python",
   "pygments_lexer": "ipython2",
   "version": "2.7.6"
  }
 },
 "nbformat": 4,
 "nbformat_minor": 0
}
