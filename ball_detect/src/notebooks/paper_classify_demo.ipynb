{
 "cells": [
  {
   "cell_type": "code",
   "execution_count": 109,
   "metadata": {
    "collapsed": true
   },
   "outputs": [],
   "source": []
  },
  {
   "cell_type": "code",
   "execution_count": 110,
   "metadata": {
    "collapsed": false
   },
   "outputs": [
    {
     "name": "stdout",
     "output_type": "stream",
     "text": [
      "0.924309884239\n"
     ]
    }
   ],
   "source": [
    "import numpy as np\n",
    "from sklearn import linear_model\n",
    "clf = linear_model.LogisticRegression()\n",
    "\n",
    "def get_accuracy(labels_predict, labels):\n",
    "    return np.sum(labels_predict == labels) / float(len(labels))\n",
    "\n",
    "ball_factors = np.loadtxt('ball_factors.txt')\n",
    "paper_factors = np.loadtxt('paper_factors.txt')\n",
    "\n",
    "all_factors = np.concatenate((ball_factors, paper_factors), axis=0)\n",
    "all_labels = [1] * len(ball_factors) + [-1] * len(paper_factors)\n",
    "\n",
    "clf.fit(all_factors, all_labels)\n",
    "all_labels_predict = clf.predict(all_factors)\n",
    "\n",
    "accuracy = get_accuracy(clf.predict(all_factors), all_labels)\n",
    "print \"imported with accuracy\", accuracy"
   ]
  },
  {
   "cell_type": "code",
   "execution_count": 111,
   "metadata": {
    "collapsed": false
   },
   "outputs": [
    {
     "data": {
      "text/plain": [
       "array([1])"
      ]
     },
     "execution_count": 111,
     "metadata": {},
     "output_type": "execute_result"
    }
   ],
   "source": [
    "clf.predict([1,2,3])"
   ]
  }
 ],
 "metadata": {
  "kernelspec": {
   "display_name": "Python 2",
   "language": "python",
   "name": "python2"
  },
  "language_info": {
   "codemirror_mode": {
    "name": "ipython",
    "version": 2
   },
   "file_extension": ".py",
   "mimetype": "text/x-python",
   "name": "python",
   "nbconvert_exporter": "python",
   "pygments_lexer": "ipython2",
   "version": "2.7.6"
  }
 },
 "nbformat": 4,
 "nbformat_minor": 0
}
