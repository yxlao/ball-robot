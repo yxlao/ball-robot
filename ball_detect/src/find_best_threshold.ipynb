{
 "cells": [
  {
   "cell_type": "code",
   "execution_count": 144,
   "metadata": {
    "collapsed": true
   },
   "outputs": [],
   "source": [
    "from os import listdir, rename\n",
    "from os.path import isfile, join\n",
    "from shutil import copyfile\n",
    "\n",
    "import cv2\n",
    "import numpy as np\n",
    "\n",
    "import cPickle as pickle\n",
    "\n",
    "import matplotlib.pyplot as plt\n",
    "import matplotlib.image as mpimg\n",
    "%matplotlib inline\n",
    "\n",
    "from ball_detect_utils import hsv_to_bool_mask\n",
    "from ball_detect_utils import hsv_to_circular_bool_mask"
   ]
  },
  {
   "cell_type": "code",
   "execution_count": 145,
   "metadata": {
    "collapsed": true
   },
   "outputs": [],
   "source": [
    "data = pickle.load(open(\"data.p\", \"rb\"))"
   ]
  },
  {
   "cell_type": "code",
   "execution_count": 159,
   "metadata": {
    "collapsed": false
   },
   "outputs": [],
   "source": [
    "def jaccard(im_mask_pd, im_mask_gt):\n",
    "    \"\"\"\n",
    "    - both input must be bool\n",
    "    - return between 0 to 1, 1 the best\n",
    "    \"\"\"\n",
    "    assert im_mask_pd.dtype == np.bool\n",
    "    assert im_mask_gt.dtype == np.bool\n",
    "    union = float(np.sum(np.logical_or(im_mask_pd, im_mask_gt)))\n",
    "    interset = float(np.sum(np.logical_and(im_mask_pd, im_mask_gt)))\n",
    "    if union == 0:\n",
    "        if interset != 0:\n",
    "            return -1.0 # more panalty\n",
    "        else:\n",
    "            return 0.\n",
    "    return interset / union\n",
    "\n",
    "def hsv_to_jaccard(im_hsv, hsv_lows, hsv_highs,\n",
    "                   im_mask_gt, enable_circular):\n",
    "    if enable_circular:\n",
    "        im_mask_pd = hsv_to_circular_bool_mask(im_hsv, \n",
    "                                               hsv_lows, hsv_highs)\n",
    "    else:\n",
    "        im_mask_pd = hsv_to_bool_mask(im_hsv, hsv_lows, hsv_highs)\n",
    "    return jaccard(im_mask_pd, im_mask_gt)\n",
    "\n",
    "def threshold_to_score(data,\n",
    "                       hsv_lows, hsv_highs,\n",
    "                       color,\n",
    "                       enable_circular):\n",
    "    jacards = []\n",
    "    \n",
    "    if color == 'orange':\n",
    "        for key, d in data.iteritems():\n",
    "            jacard = hsv_to_jaccard(d['im_hsv'], \n",
    "                                    hsv_lows, hsv_highs,\n",
    "                                    d['im_mask_orange'], enable_circular)\n",
    "            jacards.append(jacard)\n",
    "    elif color == 'green':\n",
    "        for key, d in data.iteritems():\n",
    "            jacard = hsv_to_jaccard(d['im_hsv'], \n",
    "                                    hsv_lows, hsv_highs,\n",
    "                                    d['im_mask_green'], enable_circular)\n",
    "            jacards.append(jacard)\n",
    "    else:\n",
    "        raise\n",
    "        \n",
    "    return float(np.sum(jacards))"
   ]
  },
  {
   "cell_type": "code",
   "execution_count": 160,
   "metadata": {
    "collapsed": false
   },
   "outputs": [],
   "source": [
    "orange_hsv_lows = (0, 146, 120)\n",
    "orange_hsv_highs = (16, 255, 255)\n",
    "green_hsv_lows = (30, 80, 80)\n",
    "green_hsv_highs = (50, 255, 255)"
   ]
  },
  {
   "cell_type": "code",
   "execution_count": 161,
   "metadata": {
    "collapsed": false
   },
   "outputs": [
    {
     "data": {
      "text/plain": [
       "18.266876805112197"
      ]
     },
     "execution_count": 161,
     "metadata": {},
     "output_type": "execute_result"
    }
   ],
   "source": [
    "threshold_to_score(data,\n",
    "                   green_hsv_lows, green_hsv_highs,\n",
    "                   color='green', enable_circular=False)"
   ]
  },
  {
   "cell_type": "code",
   "execution_count": 170,
   "metadata": {
    "collapsed": false
   },
   "outputs": [],
   "source": [
    "from hyperopt import hp\n",
    "from hyperopt import fmin, tpe\n",
    "\n",
    "from hyperopt import fmin, tpe, hp, Trials\n",
    "from hyperopt.mongoexp import MongoTrials\n",
    "\n",
    "def objective(args):\n",
    "    hsv_lows, hsv_highs, color, enable_circular = args\n",
    "    return -threshold_to_score(data, hsv_lows, hsv_highs,\n",
    "                               color, enable_circular)\n",
    "\n",
    "space = ((hp.uniform('h_low', 0, 50), hp.uniform('s_low', 0, 160), hp.uniform('v_low', 0, 160)), \n",
    "         (hp.uniform('h_high', 20, 100), hp.uniform('s_high', 254, 255), hp.uniform('v_high', 254, 255)), \n",
    "         'green', False)"
   ]
  },
  {
   "cell_type": "code",
   "execution_count": 171,
   "metadata": {
    "collapsed": false
   },
   "outputs": [],
   "source": [
    "best = fmin(objective, space, algo=tpe.suggest, max_evals=100)"
   ]
  },
  {
   "cell_type": "code",
   "execution_count": 172,
   "metadata": {
    "collapsed": false
   },
   "outputs": [
    {
     "name": "stdout",
     "output_type": "stream",
     "text": [
      "{'v_low': 37.71499753830188, 's_low': 115.21630413498997, 's_high': 254.38179846923157, 'h_high': 86.29366114702698, 'h_low': 36.614939734020396, 'v_high': 254.71606894371214}\n",
      "-51.3020191444\n"
     ]
    }
   ],
   "source": [
    "print best\n",
    "print objective(hyperopt.space_eval(space, best))"
   ]
  }
 ],
 "metadata": {
  "kernelspec": {
   "display_name": "Python 2",
   "language": "python",
   "name": "python2"
  },
  "language_info": {
   "codemirror_mode": {
    "name": "ipython",
    "version": 2
   },
   "file_extension": ".py",
   "mimetype": "text/x-python",
   "name": "python",
   "nbconvert_exporter": "python",
   "pygments_lexer": "ipython2",
   "version": "2.7.6"
  }
 },
 "nbformat": 4,
 "nbformat_minor": 0
}
