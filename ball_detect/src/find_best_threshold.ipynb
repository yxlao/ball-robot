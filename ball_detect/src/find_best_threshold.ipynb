{
 "cells": [
  {
   "cell_type": "code",
   "execution_count": 14,
   "metadata": {
    "collapsed": true
   },
   "outputs": [],
   "source": [
    "from os import listdir, rename\n",
    "from os.path import isfile, join\n",
    "from shutil import copyfile\n",
    "\n",
    "import cv2\n",
    "import numpy as np\n",
    "\n",
    "import cPickle as pickle\n",
    "\n",
    "import matplotlib.pyplot as plt\n",
    "import matplotlib.image as mpimg\n",
    "%matplotlib inline\n",
    "\n",
    "from ball_detect_utils import hsv_to_bool_mask\n",
    "from ball_detect_utils import hsv_to_circular_bool_mask"
   ]
  },
  {
   "cell_type": "code",
   "execution_count": 15,
   "metadata": {
    "collapsed": true
   },
   "outputs": [],
   "source": [
    "data = pickle.load(open(\"data.p\", \"rb\"))"
   ]
  },
  {
   "cell_type": "code",
   "execution_count": 18,
   "metadata": {
    "collapsed": true
   },
   "outputs": [],
   "source": [
    "def jaccard(im_mask_pd, im_mask_gt):\n",
    "    \"\"\"\n",
    "    - both input must be bool\n",
    "    - return between 0 to 1, 1 the best\n",
    "    \"\"\"\n",
    "    assert im_mask_pd.dtype == np.bool\n",
    "    assert im_mask_gt.dtype == np.bool\n",
    "    union = float(np.sum(np.logical_or(im_mask_pd, im_mask_gt)))\n",
    "    interset = float(np.sum(np.logical_and(im_mask_pd, im_mask_gt)))\n",
    "    if union == 0: \n",
    "        return 0.\n",
    "    return interset / union\n",
    "\n",
    "def hsv_to_jaccard(im_hsv, hsv_lows, hsv_highs,\n",
    "                   im_mask_gt, enable_circular):\n",
    "    if enable_circular:\n",
    "        im_mask_pd = hsv_to_circular_bool_mask(im_hsv, \n",
    "                                               hsv_lows, hsv_highs)\n",
    "    else:\n",
    "        im_mask_pd = hsv_to_bool_mask(im_hsv, hsv_lows, hsv_highs)\n",
    "    return jaccard(im_mask_pd, im_mask_gt)\n",
    "\n",
    "def threshold_to_score(data,\n",
    "                       hsv_lows, hsv_highs,\n",
    "                       color,\n",
    "                       enable_circular):\n",
    "    jacards = []\n",
    "    \n",
    "    if color == 'orange':\n",
    "        for key, d in data.iteritems():\n",
    "            jacard = hsv_to_jaccard(d['im_hsv'], \n",
    "                                    orange_hsv_lows, orange_hsv_highs,\n",
    "                                    d['im_mask_orange'], enable_circular)\n",
    "            jacards.append(jacard)\n",
    "    elif color == 'green':\n",
    "        for key, d in data.iteritems():\n",
    "            jacard = hsv_to_jaccard(d['im_hsv'], \n",
    "                                    orange_hsv_lows, orange_hsv_highs,\n",
    "                                    d['im_mask_green'], enable_circular)\n",
    "            jacards.append(jacard)\n",
    "    else:\n",
    "        raise\n",
    "        \n",
    "    return float(np.sum(jacards))"
   ]
  },
  {
   "cell_type": "code",
   "execution_count": 13,
   "metadata": {
    "collapsed": false
   },
   "outputs": [],
   "source": [
    "orange_hsv_lows = (0, 146, 120)\n",
    "orange_hsv_highs = (16, 255, 255)\n",
    "green_hsv_lows = (30, 80, 80)\n",
    "green_hsv_highs = (50, 255, 255)\n",
    "enable_circular = True"
   ]
  },
  {
   "cell_type": "code",
   "execution_count": 23,
   "metadata": {
    "collapsed": false
   },
   "outputs": [
    {
     "data": {
      "text/plain": [
       "40.283758266072375"
      ]
     },
     "execution_count": 23,
     "metadata": {},
     "output_type": "execute_result"
    }
   ],
   "source": [
    "threshold_to_score(data,\n",
    "                   orange_hsv_lows, orange_hsv_highs,\n",
    "                   color='orange', enable_circular=True)"
   ]
  }
 ],
 "metadata": {
  "kernelspec": {
   "display_name": "Python 2",
   "language": "python",
   "name": "python2"
  },
  "language_info": {
   "codemirror_mode": {
    "name": "ipython",
    "version": 2
   },
   "file_extension": ".py",
   "mimetype": "text/x-python",
   "name": "python",
   "nbconvert_exporter": "python",
   "pygments_lexer": "ipython2",
   "version": "2.7.6"
  }
 },
 "nbformat": 4,
 "nbformat_minor": 0
}
