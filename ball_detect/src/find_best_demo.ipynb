{
 "cells": [
  {
   "cell_type": "code",
   "execution_count": null,
   "metadata": {
    "collapsed": true
   },
   "outputs": [],
   "source": [
    "from os import listdir, rename\n",
    "from os.path import isfile, join\n",
    "from shutil import copyfile\n",
    "\n",
    "import cv2\n",
    "import numpy as np\n",
    "\n",
    "import cPickle as pickle\n",
    "\n",
    "import matplotlib.pyplot as plt\n",
    "import matplotlib.image as mpimg\n",
    "%matplotlib inline\n",
    "\n",
    "from ball_detect_utils import hsv_to_bool_mask\n",
    "from ball_detect_utils import hsv_to_circular_bool_mask"
   ]
  },
  {
   "cell_type": "code",
   "execution_count": null,
   "metadata": {
    "collapsed": true
   },
   "outputs": [],
   "source": [
    "def jaccard(im_mask_pd, im_mask_gt):\n",
    "    \"\"\"\n",
    "    - both input must be bool\n",
    "    - return between 0 to 1, 1 the best\n",
    "    \"\"\"\n",
    "    assert im_mask_pd.dtype == np.bool\n",
    "    assert im_mask_gt.dtype == np.bool\n",
    "    union = float(np.sum(np.logical_or(im_mask_pd, im_mask_gt)))\n",
    "    interset = float(np.sum(np.logical_and(im_mask_pd, im_mask_gt)))\n",
    "    if union == 0: \n",
    "        return 0.\n",
    "    return interset / union"
   ]
  },
  {
   "cell_type": "code",
   "execution_count": null,
   "metadata": {
    "collapsed": true
   },
   "outputs": [],
   "source": [
    "data = pickle.load(open(\"data.p\", \"rb\"))"
   ]
  },
  {
   "cell_type": "code",
   "execution_count": null,
   "metadata": {
    "collapsed": false
   },
   "outputs": [],
   "source": [
    "k = data.keys()[100]\n",
    "plt.imshow(data[k]['im'])"
   ]
  },
  {
   "cell_type": "code",
   "execution_count": null,
   "metadata": {
    "collapsed": false
   },
   "outputs": [],
   "source": [
    "im_hsv = cv2.cvtColor(data[k]['im_bgr'], cv2.COLOR_BGR2HSV)\n",
    "hsv_lows = (0, 146, 120)\n",
    "hsv_highs = (16, 255, 255)\n",
    "im_mask_pd = hsv_to_bool_mask(im_hsv, hsv_lows, hsv_highs)\n",
    "print jaccard(im_mask_pd, data[k]['im_mask_orange'])\n",
    "plt.imshow(im_mask_pd)"
   ]
  },
  {
   "cell_type": "code",
   "execution_count": null,
   "metadata": {
    "collapsed": false
   },
   "outputs": [],
   "source": [
    "im_hsv = cv2.cvtColor(data[k]['im_bgr'], cv2.COLOR_BGR2HSV)\n",
    "hsv_lows = (0, 146, 120)\n",
    "hsv_highs = (16, 255, 255)\n",
    "im_mask_pd = hsv_to_circular_bool_mask(im_hsv, hsv_lows, hsv_highs)\n",
    "print jaccard(im_mask_pd, data[k]['im_mask_orange'])\n",
    "plt.imshow(im_mask_pd)"
   ]
  }
 ],
 "metadata": {
  "kernelspec": {
   "display_name": "Python 2",
   "language": "python",
   "name": "python2"
  },
  "language_info": {
   "codemirror_mode": {
    "name": "ipython",
    "version": 2
   },
   "file_extension": ".py",
   "mimetype": "text/x-python",
   "name": "python",
   "nbconvert_exporter": "python",
   "pygments_lexer": "ipython2",
   "version": "2.7.6"
  }
 },
 "nbformat": 4,
 "nbformat_minor": 0
}
