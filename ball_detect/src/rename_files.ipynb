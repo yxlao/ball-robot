{
 "cells": [
  {
   "cell_type": "code",
   "execution_count": null,
   "metadata": {
    "collapsed": true
   },
   "outputs": [],
   "source": [
    "from os import listdir, rename\n",
    "from os.path import isfile, join\n",
    "from shutil import copyfile"
   ]
  },
  {
   "cell_type": "code",
   "execution_count": null,
   "metadata": {
    "collapsed": false
   },
   "outputs": [],
   "source": [
    "# path = 'dataset/dataset_green'\n",
    "# files = [f for f in listdir(path) \n",
    "#          if isfile(join(path, f)) and 'mask' in f]\n",
    "# for f in files:\n",
    "#     old_name = f\n",
    "#     new_name = f.replace('mask', 'green')\n",
    "#     rename(join(path, old_name), join(path, new_name))"
   ]
  },
  {
   "cell_type": "code",
   "execution_count": null,
   "metadata": {
    "collapsed": true
   },
   "outputs": [],
   "source": [
    "# path = 'dataset/dataset_orange'\n",
    "# files = [f for f in listdir(path) \n",
    "#          if isfile(join(path, f)) and 'mask' in f]\n",
    "# for f in files:\n",
    "#     old_name = f\n",
    "#     new_name = f.replace('mask', 'orange')\n",
    "#     rename(join(path, old_name), join(path, new_name))"
   ]
  },
  {
   "cell_type": "code",
   "execution_count": null,
   "metadata": {
    "collapsed": false
   },
   "outputs": [],
   "source": [
    "# path = 'dataset'\n",
    "# raw_path = 'raw_dataset'\n",
    "# files = [f for f in listdir(path) \n",
    "#          if isfile(join(path, f)) \n",
    "#              and 'orange' not in f \n",
    "#              and 'green' not in f]\n",
    "\n",
    "# for f in files:\n",
    "#     npy_name = f[:-3] + 'npy'\n",
    "#     copyfile(join(raw_path, npy_name), join(path, npy_name))"
   ]
  },
  {
   "cell_type": "code",
   "execution_count": null,
   "metadata": {
    "collapsed": false
   },
   "outputs": [],
   "source": [
    "# path = 'samples_orange'\n",
    "# files = [f for f in listdir(path) \n",
    "#          if isfile(join(path, f)) \n",
    "#              and 'png' in f]\n",
    "\n",
    "# for f in files:\n",
    "#     pure_name = f[:-4]\n",
    "#     copyfile(join(path, 'template'), join(path, pure_name + '.mask.png'))"
   ]
  }
 ],
 "metadata": {
  "kernelspec": {
   "display_name": "Python 2",
   "language": "python",
   "name": "python2"
  },
  "language_info": {
   "codemirror_mode": {
    "name": "ipython",
    "version": 2
   },
   "file_extension": ".py",
   "mimetype": "text/x-python",
   "name": "python",
   "nbconvert_exporter": "python",
   "pygments_lexer": "ipython2",
   "version": "2.7.6"
  }
 },
 "nbformat": 4,
 "nbformat_minor": 0
}
